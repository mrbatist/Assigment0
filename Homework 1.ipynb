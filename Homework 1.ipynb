{
 "cells": [
  {
   "cell_type": "markdown",
   "metadata": {},
   "source": [
    "## Question 1\n",
    "We will show that lambda_n=(1/3)^n will never reach time 10 because it will continue making arbitrary many births.   "
   ]
  },
  {
   "cell_type": "code",
   "execution_count": 48,
   "metadata": {},
   "outputs": [
    {
     "name": "stdout",
     "output_type": "stream",
     "text": [
      "679.0\n",
      "[[0.75784337]]\n"
     ]
    }
   ],
   "source": [
    "from numpy import random\n",
    "\n",
    "timelaps=0\n",
    "total=0\n",
    "for trials in range(10000):\n",
    "    count=1\n",
    "    time=0\n",
    "    while time<100:\n",
    "        lam=pow(1/3,count)\n",
    "        birth=random.exponential(scale=count*lam, size=(1, 1))\n",
    "        if lam==0:\n",
    "            break\n",
    "        count=count+1\n",
    "        time=time+birth\n",
    "    total=total+count\n",
    "    timelaps=timelaps+time\n",
    "print(total/(trials+1))\n",
    "print(timelaps/(trials+1))"
   ]
  },
  {
   "cell_type": "code",
   "execution_count": 49,
   "metadata": {},
   "outputs": [
    {
     "name": "stdout",
     "output_type": "stream",
     "text": [
      "[[0.77555226]]\n"
     ]
    }
   ],
   "source": [
    "from numpy import random\n",
    "\n",
    "timelaps=0\n",
    "total=0\n",
    "for trials in range(10):\n",
    "    count=1\n",
    "    time=0\n",
    "    while count<1000000:\n",
    "        lam=pow(1/3,count)\n",
    "        birth=random.exponential(scale=count*lam, size=(1, 1))\n",
    "        count=count+1\n",
    "        time=time+birth\n",
    "    total=total+count\n",
    "    timelaps=timelaps+time\n",
    "print(timelaps/(trials+1))"
   ]
  },
  {
   "cell_type": "markdown",
   "metadata": {},
   "source": [
    "We see that as the value of the while loop increased the average number of seconds to reach that number does not increase. This is because the population will increase to inifnity at roughly the time outputted. "
   ]
  },
  {
   "cell_type": "markdown",
   "metadata": {},
   "source": [
    "## Question 2\n",
    "We are modeling a birth-death process with immigration. We will run the stochastic model and compare to the solution to the differential equations. "
   ]
  },
  {
   "cell_type": "code",
   "execution_count": 29,
   "metadata": {},
   "outputs": [
    {
     "name": "stdout",
     "output_type": "stream",
     "text": [
      "11.145314531453145\n"
     ]
    }
   ],
   "source": [
    "from numpy import random\n",
    "\n",
    "time=0\n",
    "mu=.6\n",
    "lam=.6\n",
    "nu=.1\n",
    "total=0\n",
    "for trials in range(10000):\n",
    "    count=1\n",
    "    time=0\n",
    "    while time<100:\n",
    "        death=random.exponential(scale=count*mu, size=(1, 1))\n",
    "        birth=random.exponential(scale=count*lam, size=(1, 1))\n",
    "        immigration=random.exponential(scale=nu, size=(1, 1))\n",
    "        if birth<death:\n",
    "            count=count+1\n",
    "            time=time+birth\n",
    "        elif count>0: \n",
    "            count=count-1\n",
    "            time=time+death\n",
    "        ran=random.uniform(0,1)\n",
    "        if(ran<nu):\n",
    "            count=count+1\n",
    "    total=total+count\n",
    "print(total/(trials+1))"
   ]
  },
  {
   "cell_type": "markdown",
   "metadata": {},
   "source": [
    "## Problem 4 \n",
    "We are simulating the unoccupied time of a promtor described by a Poisson process."
   ]
  },
  {
   "cell_type": "code",
   "execution_count": 118,
   "metadata": {},
   "outputs": [
    {
     "name": "stdout",
     "output_type": "stream",
     "text": [
      "[[668.01301747]]\n",
      "666.6666666666666\n"
     ]
    }
   ],
   "source": [
    "from numpy import random\n",
    "\n",
    "time=0\n",
    "mu=1\n",
    "lam=2\n",
    "total=0\n",
    "length=1000\n",
    "for trials in range(1000):\n",
    "    time=0\n",
    "    unoccupied=0\n",
    "    bound=0\n",
    "    while time<length:\n",
    "        protiens=random.exponential(scale=lam, size=(1, 1))\n",
    "        if bound ==0:\n",
    "            unoccupied=unoccupied+protiens\n",
    "            time=time+protiens\n",
    "            bound=1\n",
    "            bound_time=random.exponential(scale=mu, size=(1, 1))\n",
    "        elif bound_time<protiens:\n",
    "            time=time+protiens\n",
    "            unoccupied=unoccupied+protiens-bound_time\n",
    "            bound_time=random.exponential(scale=mu, size=(1, 1))\n",
    "        else:\n",
    "            time=time+protiens\n",
    "            bound_time=bound_time-protiens\n",
    "    total=total+unoccupied\n",
    "print(total/(trials+1))\n",
    "print(length*(1/(1+(1/lam)*(1/mu))))"
   ]
  },
  {
   "cell_type": "code",
   "execution_count": 119,
   "metadata": {},
   "outputs": [
    {
     "name": "stdout",
     "output_type": "stream",
     "text": [
      "[[837.68004157]]\n",
      "833.3333333333334\n"
     ]
    }
   ],
   "source": [
    "from numpy import random\n",
    "\n",
    "time=0\n",
    "mu=1\n",
    "lam=5\n",
    "total=0\n",
    "length=1000\n",
    "for trials in range(1000):\n",
    "    time=0\n",
    "    unoccupied=0\n",
    "    bound=0\n",
    "    while time<length:\n",
    "        protiens=random.exponential(scale=lam, size=(1, 1))\n",
    "        if bound ==0:\n",
    "            unoccupied=unoccupied+protiens\n",
    "            time=time+protiens\n",
    "            bound=1\n",
    "            bound_time=random.exponential(scale=mu, size=(1, 1))\n",
    "        elif bound_time<protiens:\n",
    "            time=time+protiens\n",
    "            unoccupied=unoccupied+protiens-bound_time\n",
    "            bound_time=random.exponential(scale=mu, size=(1, 1))\n",
    "        else:\n",
    "            time=time+protiens\n",
    "            bound_time=bound_time-protiens\n",
    "    total=total+unoccupied\n",
    "print(total/(trials+1))\n",
    "print(length*(1/(1+(1/lam)*(1/mu))))"
   ]
  },
  {
   "cell_type": "code",
   "execution_count": 127,
   "metadata": {},
   "outputs": [
    {
     "name": "stdout",
     "output_type": "stream",
     "text": [
      "[[402.41215799]]\n",
      "857.1428571428571\n"
     ]
    }
   ],
   "source": [
    "from numpy import random\n",
    "\n",
    "time=0\n",
    "mu=3\n",
    "lam=2\n",
    "total=0\n",
    "length=1000\n",
    "for trials in range(1000):\n",
    "    time=0\n",
    "    unoccupied=0\n",
    "    bound=0\n",
    "    while time<length:\n",
    "        protiens=random.exponential(scale=lam, size=(1, 1))\n",
    "        if bound ==0:\n",
    "            unoccupied=unoccupied+protiens\n",
    "            time=time+protiens\n",
    "            bound=1\n",
    "            bound_time=random.exponential(scale=mu, size=(1, 1))\n",
    "        elif bound_time<protiens:\n",
    "            time=time+protiens\n",
    "            unoccupied=unoccupied+protiens-bound_time\n",
    "            bound_time=random.exponential(scale=mu, size=(1, 1))\n",
    "        else:\n",
    "            time=time+protiens\n",
    "            bound_time=bound_time-protiens\n",
    "    total=total+unoccupied\n",
    "print(total/(trials+1))\n",
    "print(length*(1/(1+(1/lam)*(1/mu))))"
   ]
  },
  {
   "cell_type": "markdown",
   "metadata": {},
   "source": [
    "As we can see I was able to show that for mu=1 that we meet the formula, but for other values of mu it does not hold. I have no idea why this does not apply for other values of mu. "
   ]
  },
  {
   "cell_type": "markdown",
   "metadata": {},
   "source": [
    "## Problem 5 \n"
   ]
  },
  {
   "cell_type": "code",
   "execution_count": 141,
   "metadata": {},
   "outputs": [
    {
     "name": "stdout",
     "output_type": "stream",
     "text": [
      "[[0.00076092]]\n"
     ]
    }
   ],
   "source": [
    "from numpy import random\n",
    "\n",
    "time=0\n",
    "lam=1\n",
    "total=0\n",
    "t=1000\n",
    "avgmean=0\n",
    "length=1000\n",
    "for trials in range(length):\n",
    "    time=0\n",
    "    new=0\n",
    "    old=1000\n",
    "    mean=0\n",
    "    while time<t:\n",
    "        new=random.exponential(scale=lam, size=(1, 1))\n",
    "        if new<old:\n",
    "            time=time+new\n",
    "            mean=new*new/2\n",
    "            old=0\n",
    "        else:\n",
    "            mean=new/2*(new)/4\n",
    "            time=time+new\n",
    "            mean=pow((new)/2,2)/2\n",
    "            old=0\n",
    "        \n",
    "    avgmean=(avgmean+mean)\n",
    "avgmean=avgmean/(t*length)\n",
    "print(avgmean)"
   ]
  },
  {
   "cell_type": "code",
   "execution_count": 145,
   "metadata": {},
   "outputs": [
    {
     "name": "stdout",
     "output_type": "stream",
     "text": [
      "[[0.00312017]]\n"
     ]
    }
   ],
   "source": [
    "from numpy import random\n",
    "\n",
    "time=0\n",
    "lam=2\n",
    "total=0\n",
    "t=1000\n",
    "avgmean=0\n",
    "length=1000\n",
    "for trials in range(length):\n",
    "    time=0\n",
    "    new=0\n",
    "    old=1000\n",
    "    mean=0\n",
    "    while time<t:\n",
    "        new=random.exponential(scale=lam, size=(1, 1))\n",
    "        if new<old:\n",
    "            time=time+new\n",
    "            mean=new*new/2\n",
    "            old=0\n",
    "        else:\n",
    "            mean=new/2*(new)/4\n",
    "            time=time+new\n",
    "            mean=pow((new)/2,2)/2\n",
    "            old=0\n",
    "        \n",
    "    avgmean=(avgmean+mean)\n",
    "avgmean=avgmean/(t*length)\n",
    "print(avgmean)"
   ]
  },
  {
   "cell_type": "code",
   "execution_count": 146,
   "metadata": {},
   "outputs": [
    {
     "name": "stdout",
     "output_type": "stream",
     "text": [
      "[[0.02012945]]\n"
     ]
    }
   ],
   "source": [
    "from numpy import random\n",
    "\n",
    "time=0\n",
    "lam=5\n",
    "total=0\n",
    "t=1000\n",
    "avgmean=0\n",
    "length=1000\n",
    "for trials in range(length):\n",
    "    time=0\n",
    "    new=0\n",
    "    old=1000\n",
    "    mean=0\n",
    "    while time<t:\n",
    "        new=random.exponential(scale=lam, size=(1, 1))\n",
    "        if new<old:\n",
    "            time=time+new\n",
    "            mean=new*new/2\n",
    "            old=0\n",
    "        else:\n",
    "            mean=new/2*(new)/4\n",
    "            time=time+new\n",
    "            mean=pow((new)/2,2)/2\n",
    "            old=0\n",
    "        \n",
    "    avgmean=(avgmean+mean)\n",
    "avgmean=avgmean/(t*length)\n",
    "print(avgmean)"
   ]
  },
  {
   "cell_type": "code",
   "execution_count": 148,
   "metadata": {},
   "outputs": [
    {
     "name": "stdout",
     "output_type": "stream",
     "text": [
      "[[0.07527258]]\n"
     ]
    }
   ],
   "source": [
    "from numpy import random\n",
    "time=0\n",
    "lam=10\n",
    "total=0\n",
    "t=1000\n",
    "avgmean=0\n",
    "length=1000\n",
    "for trials in range(length):\n",
    "    time=0\n",
    "    new=0\n",
    "    old=1000\n",
    "    mean=0\n",
    "    while time<t:\n",
    "        new=random.exponential(scale=lam, size=(1, 1))\n",
    "        if new<old:\n",
    "            time=time+new\n",
    "            mean=new*new/2\n",
    "            old=0\n",
    "        else:\n",
    "            mean=new/2*(new)/4\n",
    "            time=time+new\n",
    "            mean=pow((new)/2,2)/2\n",
    "            old=0\n",
    "        \n",
    "    avgmean=(avgmean+mean)\n",
    "avgmean=avgmean/(t*length)\n",
    "print(avgmean)"
   ]
  },
  {
   "cell_type": "markdown",
   "metadata": {},
   "source": [
    "We see that the mean value of T increases as lambda increases. I am unable to figue out what the general formula for the mean using the simulations, but we can see that via simulations it should behave like a standard poisson process of lambda/2 instead of lambda. "
   ]
  }
 ],
 "metadata": {
  "kernelspec": {
   "display_name": "Python 3",
   "language": "python",
   "name": "python3"
  },
  "language_info": {
   "codemirror_mode": {
    "name": "ipython",
    "version": 3
   },
   "file_extension": ".py",
   "mimetype": "text/x-python",
   "name": "python",
   "nbconvert_exporter": "python",
   "pygments_lexer": "ipython3",
   "version": "3.8.3"
  }
 },
 "nbformat": 4,
 "nbformat_minor": 4
}
