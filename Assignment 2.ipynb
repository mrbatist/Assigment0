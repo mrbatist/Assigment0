{
 "cells": [
  {
   "cell_type": "markdown",
   "metadata": {},
   "source": [
    "# Computational Challange 2\n",
    "## Question 1 and 2\n",
    "For the first question we set mu_a=0=mu_A and run 10000 simulations using the Moran process. We see that the probablity that there it absorbs with all A or all a genes is clearly dependent on N, the population size. Below are five different simulations with N=2,4,10,100, and 1000. For each, simulation we ran 10000 trials and calculated the percentage of times in which it reaches the absorbibg state with all a genes. "
   ]
  },
  {
   "cell_type": "code",
   "execution_count": 8,
   "metadata": {},
   "outputs": [
    {
     "name": "stdout",
     "output_type": "stream",
     "text": [
      "0.4916 percentage of ending with only a genes 10000 trials\n",
      "1.990439381611066 average number of steps to reach only a genes\n"
     ]
    }
   ],
   "source": [
    "import random\n",
    "mua=0\n",
    "muA=0\n",
    "N=2\n",
    "j=1\n",
    "count=0\n",
    "trials=10000\n",
    "total=0\n",
    "percentage=list(range(5))\n",
    "steps=list(range(5))\n",
    "for i in range(0,trials):\n",
    "    j=1\n",
    "    step=0\n",
    "    while 0<j<N:\n",
    "        step=step+1\n",
    "        Pplus=((j/N)*(1-mua)+((N-j)/N)*muA)*((N-j)/N)\n",
    "        Pminus=((j/N)*(mua)+((N-j)/N)*(1-muA))*(j/N)\n",
    "        Psame=1-Pplus-Pminus\n",
    "        ran=random.uniform(0,1)\n",
    "        if ran<Pplus:\n",
    "            j=j+1\n",
    "        elif ran<Pminus+Pplus:\n",
    "            j=j-1\n",
    "        else :\n",
    "            j=j\n",
    "    if j==N:\n",
    "        count=count+1\n",
    "        total=step+total\n",
    "print(count/trials,'percentage of ending with only a genes',trials, 'trials' )\n",
    "print(total/count,'average number of steps to reach only a genes')\n",
    "percentage[0]=count/trials\n",
    "steps[0]=total/count"
   ]
  },
  {
   "cell_type": "code",
   "execution_count": 9,
   "metadata": {},
   "outputs": [
    {
     "name": "stdout",
     "output_type": "stream",
     "text": [
      "0.3309 percentage of ending with only a genes 10000 trials\n",
      "5.973708068902992 average number of steps to reach only a genes\n"
     ]
    }
   ],
   "source": [
    "import random\n",
    "mua=0\n",
    "muA=0\n",
    "N=3\n",
    "j=1\n",
    "count=0\n",
    "trials=10000\n",
    "total=0\n",
    "for i in range(0,trials):\n",
    "    j=1\n",
    "    step=0\n",
    "    while 0<j<N:\n",
    "        step=step+1\n",
    "        Pplus=((j/N)*(1-mua)+((N-j)/N)*muA)*((N-j)/N)\n",
    "        Pminus=((j/N)*(mua)+((N-j)/N)*(1-muA))*(j/N)\n",
    "        Psame=1-Pplus-Pminus\n",
    "        ran=random.uniform(0,1)\n",
    "        if ran<Pplus:\n",
    "            j=j+1\n",
    "        elif ran<Pminus+Pplus:\n",
    "            j=j-1\n",
    "        else :\n",
    "            j=j\n",
    "    if j==N:\n",
    "        count=count+1\n",
    "        total=step+total\n",
    "print(count/trials,'percentage of ending with only a genes',trials, 'trials' )\n",
    "print(total/count,'average number of steps to reach only a genes')\n",
    "percentage[1]=count/trials\n",
    "steps[1]=total/count"
   ]
  },
  {
   "cell_type": "code",
   "execution_count": 10,
   "metadata": {},
   "outputs": [
    {
     "name": "stdout",
     "output_type": "stream",
     "text": [
      "0.0969 percentage of ending with only a genes 10000 trials\n",
      "89.70588235294117 average number of steps to reach only a genes\n"
     ]
    }
   ],
   "source": [
    "import random\n",
    "mua=0\n",
    "muA=0\n",
    "N=10\n",
    "j=1\n",
    "count=0\n",
    "trials=10000\n",
    "total=0\n",
    "for i in range(0,trials):\n",
    "    j=1\n",
    "    step=0\n",
    "    while 0<j<N:\n",
    "        step=step+1\n",
    "        Pplus=((j/N)*(1-mua)+((N-j)/N)*muA)*((N-j)/N)\n",
    "        Pminus=((j/N)*(mua)+((N-j)/N)*(1-muA))*(j/N)\n",
    "        Psame=1-Pplus-Pminus\n",
    "        ran=random.uniform(0,1)\n",
    "        if ran<Pplus:\n",
    "            j=j+1\n",
    "        elif ran<Pminus+Pplus:\n",
    "            j=j-1\n",
    "        else :\n",
    "            j=j\n",
    "    if j==N:\n",
    "        count=count+1\n",
    "        total=step+total\n",
    "print(count/trials,'percentage of ending with only a genes',trials, 'trials' )\n",
    "print(total/count,'average number of steps to reach only a genes')\n",
    "percentage[2]=count/trials\n",
    "steps[2]=total/count"
   ]
  },
  {
   "cell_type": "code",
   "execution_count": 11,
   "metadata": {},
   "outputs": [
    {
     "name": "stdout",
     "output_type": "stream",
     "text": [
      "0.0089 percentage of ending with only a genes 10000 trials\n",
      "9977.32584269663 average number of steps to reach only a genes\n"
     ]
    }
   ],
   "source": [
    "import random\n",
    "mua=0\n",
    "muA=0\n",
    "N=100\n",
    "j=1\n",
    "count=0\n",
    "trials=10000\n",
    "total=0\n",
    "for i in range(0,trials):\n",
    "    j=1\n",
    "    step=0\n",
    "    while 0<j<N:\n",
    "        step=step+1\n",
    "        Pplus=((j/N)*(1-mua)+((N-j)/N)*muA)*((N-j)/N)\n",
    "        Pminus=((j/N)*(mua)+((N-j)/N)*(1-muA))*(j/N)\n",
    "        Psame=1-Pplus-Pminus\n",
    "        ran=random.uniform(0,1)\n",
    "        if ran<Pplus:\n",
    "            j=j+1\n",
    "        elif ran<Pminus+Pplus:\n",
    "            j=j-1\n",
    "        else :\n",
    "            j=j\n",
    "    if j==N:\n",
    "        count=count+1\n",
    "        total=step+total\n",
    "print(count/trials,'percentage of ending with only a genes',trials, 'trials' )\n",
    "print(total/count,'average number of steps to reach only a genes')\n",
    "percentage[3]=count/trials\n",
    "steps[3]=total/count"
   ]
  },
  {
   "cell_type": "code",
   "execution_count": 12,
   "metadata": {
    "scrolled": true
   },
   "outputs": [
    {
     "name": "stdout",
     "output_type": "stream",
     "text": [
      "0.0015 percentage of ending with only a genes 10000 trials\n",
      "999220.6666666666 average number of steps to reach only a genes\n"
     ]
    }
   ],
   "source": [
    "import random\n",
    "mua=0\n",
    "muA=0\n",
    "N=1000\n",
    "j=1\n",
    "count=0\n",
    "trials=10000\n",
    "total=0\n",
    "for i in range(0,trials):\n",
    "    j=1\n",
    "    step=0\n",
    "    while 0<j<N:\n",
    "        step=step+1\n",
    "        Pplus=((j/N)*(1-mua)+((N-j)/N)*muA)*((N-j)/N)\n",
    "        Pminus=((j/N)*(mua)+((N-j)/N)*(1-muA))*(j/N)\n",
    "        Psame=1-Pplus-Pminus\n",
    "        ran=random.uniform(0,1)\n",
    "        if ran<Pplus:\n",
    "            j=j+1\n",
    "        elif ran<Pminus+Pplus:\n",
    "            j=j-1\n",
    "        else :\n",
    "            j=j\n",
    "    if j==N:\n",
    "        count=count+1\n",
    "        total=step+total\n",
    "print(count/trials,'percentage of ending with only a genes',trials, 'trials' )\n",
    "print(total/count,'average number of steps to reach only a genes')\n",
    "percentage[4]=count/trials\n",
    "steps[4]=total/count"
   ]
  },
  {
   "cell_type": "code",
   "execution_count": 19,
   "metadata": {},
   "outputs": [
    {
     "data": {
      "image/png": "[encoded data removed]",
      "text/plain": [
       "<Figure size 432x288 with 1 Axes>"
      ]
     },
     "metadata": {
      "needs_background": "light"
     },
     "output_type": "display_data"
    },
    {
     "data": {
      "image/png": "[encoded data removed]",
      "text/plain": [
       "<Figure size 432x288 with 1 Axes>"
      ]
     },
     "metadata": {
      "needs_background": "light"
     },
     "output_type": "display_data"
    }
   ],
   "source": [
    "import matplotlib.pyplot as plt\n",
    "plt.plot([1, 3, 10, 100, 1000], percentage,'ro')\n",
    "plt.xlabel('Population Size')\n",
    "plt.ylabel('Percentage of Runs ending with all a genes')\n",
    "plt.show()\n",
    "plt.plot([1, 3, 10, 100, 1000], steps,'ro')\n",
    "plt.xlabel('Population Size')\n",
    "plt.ylabel('Average steps ending with all a genes')\n",
    "plt.show()"
   ]
  },
  {
   "cell_type": "markdown",
   "metadata": {},
   "source": [
    "With this we see that in each simulation that the probability that a simulation converges to the absorbing state with all a genes is roughly 1/N. For question two, we see that as N increases the number of steps increases and no clear pattern seems to appear. For some of the simulations the number of steps to reach the absorbing state with all a gense is approximatly equal to N^2 while the smaller ones do not.\n",
    "## Question 3\n",
    "First we calculate, for .1/N"
   ]
  },
  {
   "cell_type": "code",
   "execution_count": 32,
   "metadata": {},
   "outputs": [
    {
     "name": "stdout",
     "output_type": "stream",
     "text": [
      "pi= [[0.35713646 0.03777223 0.02182653 0.01608949 0.01316987 0.01144501\n",
      "  0.01035052 0.00964027 0.00919266 0.00894451 0.0088649  0.00894451\n",
      "  0.00919266 0.00964027 0.01035052 0.01144501 0.01316987 0.01608949\n",
      "  0.02182653 0.03777223 0.35713646]]\n",
      "pi(P)= [[0.35713646 0.03777223 0.02182653 0.01608949 0.01316987 0.01144501\n",
      "  0.01035052 0.00964027 0.00919266 0.00894451 0.0088649  0.00894451\n",
      "  0.00919266 0.00964027 0.01035052 0.01144501 0.01316987 0.01608949\n",
      "  0.02182653 0.03777223 0.35713646]]\n"
     ]
    },
    {
     "data": {
      "text/plain": [
       "<BarContainer object of 21 artists>"
      ]
     },
     "execution_count": 32,
     "metadata": {},
     "output_type": "execute_result"
    },
    {
     "data": {
      "image/png": "[encoded data removed]",
      "text/plain": [
       "<Figure size 640x480 with 1 Axes>"
      ]
     },
     "metadata": {},
     "output_type": "display_data"
    }
   ],
   "source": [
    "import random\n",
    "import numpy\n",
    "import matplotlib.pyplot as plt\n",
    "N=20\n",
    "mua=.1/N\n",
    "muA=.1/N\n",
    "count=0\n",
    "total=0\n",
    "mat =numpy.zeros(shape=(N+1,N+1))\n",
    "initial=numpy.zeros(shape=(1,N+1))\n",
    "initial[0,1]=1\n",
    "I=numpy.identity(N+1)\n",
    "for j in range(0,N+1):\n",
    "    Pplus=((j/N)*(1-mua)+((N-j)/N)*muA)*((N-j)/N)\n",
    "    Pminus=((j/N)*(mua)+((N-j)/N)*(1-muA))*(j/N)\n",
    "    Psame=1-Pplus-Pminus\n",
    "    if j<N:\n",
    "        mat[j,j+1]=Pplus\n",
    "    if 0<j:\n",
    "        mat[j,j-1]=Pminus\n",
    "    mat[j,j]=Psame\n",
    "for i in range(0,20):\n",
    "    mat=numpy.matmul(mat,mat)\n",
    "state=numpy.zeros(shape=(1,N+1))\n",
    "for j in range(0,N+1):\n",
    "    state[0,j]=j\n",
    "solution=numpy.matmul(initial,mat)\n",
    "print('pi=',solution)\n",
    "print('pi(P)=',numpy.matmul(solution,mat))\n",
    "plt.bar(state[0],solution[0])"
   ]
  },
  {
   "cell_type": "markdown",
   "metadata": {},
   "source": [
    "Next we run it for 1/N"
   ]
  },
  {
   "cell_type": "code",
   "execution_count": 33,
   "metadata": {},
   "outputs": [
    {
     "name": "stdout",
     "output_type": "stream",
     "text": [
      "pi= [[0.03964123 0.04380247 0.04596712 0.04737716 0.048377   0.049111\n",
      "  0.04965266 0.05004363 0.05030869 0.05046254 0.050513   0.05046254\n",
      "  0.05030869 0.05004363 0.04965266 0.049111   0.048377   0.04737716\n",
      "  0.04596712 0.04380247 0.03964123]]\n",
      "pi(P)= [[0.03964123 0.04380247 0.04596712 0.04737716 0.048377   0.049111\n",
      "  0.04965266 0.05004363 0.05030869 0.05046254 0.050513   0.05046254\n",
      "  0.05030869 0.05004363 0.04965266 0.049111   0.048377   0.04737716\n",
      "  0.04596712 0.04380247 0.03964123]]\n"
     ]
    },
    {
     "data": {
      "text/plain": [
       "<BarContainer object of 21 artists>"
      ]
     },
     "execution_count": 33,
     "metadata": {},
     "output_type": "execute_result"
    },
    {
     "data": {
      "image/png": "[encoded data removed]",
      "text/plain": [
       "<Figure size 640x480 with 1 Axes>"
      ]
     },
     "metadata": {},
     "output_type": "display_data"
    }
   ],
   "source": [
    "import random\n",
    "import numpy\n",
    "import matplotlib.pyplot as plt\n",
    "N=20\n",
    "mua=1/N\n",
    "muA=1/N\n",
    "count=0\n",
    "total=0\n",
    "mat =numpy.zeros(shape=(N+1,N+1))\n",
    "initial=numpy.zeros(shape=(1,N+1))\n",
    "initial[0,1]=1\n",
    "I=numpy.identity(N+1)\n",
    "for j in range(0,N+1):\n",
    "    Pplus=((j/N)*(1-mua)+((N-j)/N)*muA)*((N-j)/N)\n",
    "    Pminus=((j/N)*(mua)+((N-j)/N)*(1-muA))*(j/N)\n",
    "    Psame=1-Pplus-Pminus\n",
    "    if j<N:\n",
    "        mat[j,j+1]=Pplus\n",
    "    if 0<j:\n",
    "        mat[j,j-1]=Pminus\n",
    "    mat[j,j]=Psame\n",
    "for i in range(0,20):\n",
    "    mat=numpy.matmul(mat,mat)\n",
    "state=numpy.zeros(shape=(1,N+1))\n",
    "for j in range(0,N+1):\n",
    "    state[0,j]=j\n",
    "solution=numpy.matmul(initial,mat)\n",
    "print('pi=',solution)\n",
    "print('pi(P)=',numpy.matmul(solution,mat))\n",
    "plt.bar(state[0],solution[0])"
   ]
  },
  {
   "cell_type": "markdown",
   "metadata": {},
   "source": [
    "Finally we run it for 10/N."
   ]
  },
  {
   "cell_type": "code",
   "execution_count": 34,
   "metadata": {},
   "outputs": [
    {
     "name": "stdout",
     "output_type": "stream",
     "text": [
      "pi= [[9.53674316e-07 1.90734863e-05 1.81198120e-04 1.08718872e-03\n",
      "  4.62055206e-03 1.47857666e-02 3.69644165e-02 7.39288330e-02\n",
      "  1.20134354e-01 1.60179138e-01 1.76197052e-01 1.60179138e-01\n",
      "  1.20134354e-01 7.39288330e-02 3.69644165e-02 1.47857666e-02\n",
      "  4.62055206e-03 1.08718872e-03 1.81198120e-04 1.90734863e-05\n",
      "  9.53674316e-07]]\n",
      "pi(P)= [[9.53674316e-07 1.90734863e-05 1.81198120e-04 1.08718872e-03\n",
      "  4.62055206e-03 1.47857666e-02 3.69644165e-02 7.39288330e-02\n",
      "  1.20134354e-01 1.60179138e-01 1.76197052e-01 1.60179138e-01\n",
      "  1.20134354e-01 7.39288330e-02 3.69644165e-02 1.47857666e-02\n",
      "  4.62055206e-03 1.08718872e-03 1.81198120e-04 1.90734863e-05\n",
      "  9.53674316e-07]]\n"
     ]
    },
    {
     "data": {
      "text/plain": [
       "<BarContainer object of 21 artists>"
      ]
     },
     "execution_count": 34,
     "metadata": {},
     "output_type": "execute_result"
    },
    {
     "data": {
      "image/png": "[encoded data removed]",
      "text/plain": [
       "<Figure size 640x480 with 1 Axes>"
      ]
     },
     "metadata": {},
     "output_type": "display_data"
    }
   ],
   "source": [
    "import random\n",
    "import numpy\n",
    "import matplotlib.pyplot as plt\n",
    "N=20\n",
    "mua=10/N\n",
    "muA=10/N\n",
    "count=0\n",
    "total=0\n",
    "mat =numpy.zeros(shape=(N+1,N+1))\n",
    "initial=numpy.zeros(shape=(1,N+1))\n",
    "initial[0,1]=1\n",
    "I=numpy.identity(N+1)\n",
    "for j in range(0,N+1):\n",
    "    Pplus=((j/N)*(1-mua)+((N-j)/N)*muA)*((N-j)/N)\n",
    "    Pminus=((j/N)*(mua)+((N-j)/N)*(1-muA))*(j/N)\n",
    "    Psame=1-Pplus-Pminus\n",
    "    if j<N:\n",
    "        mat[j,j+1]=Pplus\n",
    "    if 0<j:\n",
    "        mat[j,j-1]=Pminus\n",
    "    mat[j,j]=Psame\n",
    "for i in range(0,20):\n",
    "    mat=numpy.matmul(mat,mat)\n",
    "state=numpy.zeros(shape=(1,N+1))\n",
    "for j in range(0,N+1):\n",
    "    state[0,j]=j\n",
    "solution=numpy.matmul(initial,mat)\n",
    "print('pi=',solution)\n",
    "print('pi(P)=',numpy.matmul(solution,mat))\n",
    "plt.bar(state[0],solution[0])"
   ]
  },
  {
   "cell_type": "markdown",
   "metadata": {},
   "source": [
    "The important aspect to notice is that for mu_a=10/N the boundaries have increadibly low likelihood at the boundary conditions, while they are very likely in the lower values of mu_a. "
   ]
  }
 ],
 "metadata": {
  "kernelspec": {
   "display_name": "Python 3",
   "language": "python",
   "name": "python3"
  },
  "language_info": {
   "codemirror_mode": {
    "name": "ipython",
    "version": 3
   },
   "file_extension": ".py",
   "mimetype": "text/x-python",
   "name": "python",
   "nbconvert_exporter": "python",
   "pygments_lexer": "ipython3",
   "version": "3.8.3"
  }
 },
 "nbformat": 4,
 "nbformat_minor": 4
}
