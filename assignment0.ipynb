{
 "cells": [
  {
   "cell_type": "code",
   "execution_count": 40,
   "metadata": {},
   "outputs": [
    {
     "name": "stdout",
     "output_type": "stream",
     "text": [
      "Group 1: 2 16 0 12 17\n",
      "Group 2: 7 8 6 9 15\n",
      "Group 3: 1 3 14 4 10\n",
      "Group 4: 5 13 18 11\n"
     ]
    }
   ],
   "source": [
    "import random\n",
    "x=list(range(19))\n",
    "random.shuffle(x)\n",
    "print(\"Group 1:\",x[0],x[1],x[2],x[3],x[4])\n",
    "print(\"Group 2:\",x[5],x[6],x[7],x[8],x[9])\n",
    "print(\"Group 3:\",x[10],x[11],x[12],x[13],x[14])\n",
    "print(\"Group 4:\",x[15],x[16],x[17],x[18])"
   ]
  },
  {
   "cell_type": "code",
   "execution_count": null,
   "metadata": {},
   "outputs": [],
   "source": []
  }
 ],
 "metadata": {
  "kernelspec": {
   "display_name": "Python 3",
   "language": "python",
   "name": "python3"
  },
  "language_info": {
   "codemirror_mode": {
    "name": "ipython",
    "version": 3
   },
   "file_extension": ".py",
   "mimetype": "text/x-python",
   "name": "python",
   "nbconvert_exporter": "python",
   "pygments_lexer": "ipython3",
   "version": "3.8.3"
  }
 },
 "nbformat": 4,
 "nbformat_minor": 4
}
