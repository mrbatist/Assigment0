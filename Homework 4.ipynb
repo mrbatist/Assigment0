{
 "cells": [
  {
   "cell_type": "code",
   "execution_count": 7,
   "metadata": {},
   "outputs": [],
   "source": [
    "import numpy as np\n",
    "import random\n",
    "import sys\n",
    "from scipy.special import gamma, factorial\n",
    "from scipy import integrate\n",
    "import matplotlib.pyplot as plt\n",
    "import seaborn as sns\n",
    "import collections\n",
    "import tqdm\n",
    "from numba import jit\n",
    "from numba import njit, prange\n",
    "import time\n",
    "from scipy.integrate import solve_ivp\n",
    "from matplotlib.pyplot import cm\n",
    "import matplotlib.pyplot as plt\n",
    "from mpl_toolkits.mplot3d import Axes3D"
   ]
  },
  {
   "cell_type": "code",
   "execution_count": 19,
   "metadata": {},
   "outputs": [
    {
     "name": "stdout",
     "output_type": "stream",
     "text": [
      "The first sibling selecting 999990 and the second sibling selecting 10 is a Nash Equilbrium\n"
     ]
    }
   ],
   "source": [
    "Sibling_1=999990\n",
    "Sibling_2=10\n",
    "Average=[]\n",
    "mx=[0]*1000000\n",
    "method=[0]*1000000\n",
    "for j in range(1000000):\n",
    "    new_strategy=j\n",
    "    if new_strategy+Sibling_2<=1000000 and new_strategy!=Sibling_1:\n",
    "        payoff=new_strategy\n",
    "        if payoff>=Sibling_1:\n",
    "            print('Not A Nash Equilibrium')\n",
    "            print('Sibling_1 choosing',new_strategy, 'is better outcome')\n",
    "            break\n",
    "    if new_strategy+Sibling_2>1000000 and new_strategy!=Sibling_1:\n",
    "        payoff=0\n",
    "        if payoff>=Sibling_1:\n",
    "            print('Not A Nash Equilibrium')\n",
    "            print('Sibling_1 choosing',new_strategy, 'is better outcome')\n",
    "            break\n",
    "for j in range(1000000):\n",
    "    new_strategy=j\n",
    "    if new_strategy+Sibling_1<=1000000 and new_strategy!=Sibling_2:\n",
    "        payoff=new_strategy\n",
    "        if payoff>=Sibling_2:\n",
    "            print('Sibling_2 choosing',new_strategy, 'is better outcome')\n",
    "            sys.exit(\"Not a Nash Equilibrium\")\n",
    "    if new_strategy+Sibling_1>1000000 and new_strategy!=Sibling_2:\n",
    "        payoff=0\n",
    "        if payoff>=Sibling_2:\n",
    "            print('Sibling_2 choosing',new_strategy, 'is better outcome')\n",
    "            sys.exit(\"Not a Nash Equilibrium\")\n",
    "print('The first sibling selecting', Sibling_1, 'and the second sibling selecting' , Sibling_2, 'is a Nash Equilbrium')        "
   ]
  },
  {
   "cell_type": "code",
   "execution_count": 18,
   "metadata": {
    "scrolled": false
   },
   "outputs": [
    {
     "name": "stdout",
     "output_type": "stream",
     "text": [
      "Sibling_1 choosing 500000 is better outcome\n"
     ]
    },
    {
     "ename": "SystemExit",
     "evalue": "Not a Nash Equilibrium",
     "output_type": "error",
     "traceback": [
      "An exception has occurred, use %tb to see the full traceback.\n",
      "\u001b[1;31mSystemExit\u001b[0m\u001b[1;31m:\u001b[0m Not a Nash Equilibrium\n"
     ]
    }
   ],
   "source": [
    "Sibling_1=499999\n",
    "Sibling_2=500000\n",
    "Average=[]\n",
    "mx=[0]*1000000\n",
    "method=[0]*1000000\n",
    "for j in range(1000000):\n",
    "    new_strategy=j\n",
    "    if new_strategy+Sibling_2<=1000000 and new_strategy!=Sibling_1:\n",
    "        payoff=new_strategy\n",
    "        if payoff>=Sibling_1:\n",
    "            print('Sibling_1 choosing',new_strategy, 'is better outcome')\n",
    "            sys.exit(\"Not a Nash Equilibrium\")\n",
    "    if new_strategy+Sibling_2>1000000 and new_strategy!=Sibling_1:\n",
    "        payoff=0\n",
    "        if payoff>=Sibling_1:\n",
    "            print('Sibling_1 choosing',new_strategy, 'is better outcome')\n",
    "            sys.exit(\"Not a Nash Equilibrium\")\n",
    "for j in range(1000000):\n",
    "    new_strategy=j\n",
    "    if new_strategy+Sibling_1<=1000000 and new_strategy!=Sibling_2:\n",
    "        payoff=new_strategy\n",
    "        if payoff>=Sibling_2:\n",
    "            print('Sibling_2 choosing',new_strategy, 'is better outcome')\n",
    "            sys.exit(\"Not a Nash Equilibrium\")\n",
    "    if new_strategy+Sibling_1>1000000 and new_strategy!=Sibling_2:\n",
    "        payoff=0\n",
    "        if payoff>=Sibling_2:\n",
    "            print('Sibling_2 choosing',new_strategy, 'is better outcome')\n",
    "            sys.exit(\"Not a Nash Equilibrium\")\n",
    "print('The first sibling selecting', Sibling_1, 'and the second sibling selecting' , Sibling_2, 'is a Nash Equilbrium')        "
   ]
  },
  {
   "cell_type": "markdown",
   "metadata": {},
   "source": [
    "The computational analysis verifies that the Nash Equilibriums only occur when the two strategies sum to 1000000."
   ]
  },
  {
   "cell_type": "markdown",
   "metadata": {},
   "source": [
    "# Problem 2 \n",
    "We will assume\n",
    "that the payoff matrix on a single ground is given by\n",
    "$R$ to each player for mutual cooperation, $P$ to each player for mutual defection. In the case only one player cheats then the reward is $T$ to the cheating player, and $S$ to the cooperating player. We assume $T > R > P > S$. We will extend this payoff matrix to multiple rounds.\n",
    "## Part A\n",
    "First consider two strategies GRIM, and ALLD. GRIM cooperates on the first move and\n",
    "then cooperates as long as the opponent does not defect (cheat). Once the opponent\n",
    "defects, GRIM will always defect afterward. ALLD is to always defect independent of the opponents decisions. Suppose that two opponents play the game\n",
    "repeatedly for $m$ rounds. Compute the payoff matrix of GRIM vs ALLD after\n",
    "$m$ rounds.\n"
   ]
  },
  {
   "cell_type": "code",
   "execution_count": 29,
   "metadata": {},
   "outputs": [
    {
     "name": "stdout",
     "output_type": "stream",
     "text": [
      "Payoff for Strategy 1 is 99\n",
      "S+(m-1)P= 99\n",
      "Payoff for Strategy 2 is 102\n",
      "T+(m-1)P= 102\n"
     ]
    }
   ],
   "source": [
    "m=100 #Number of Trials\n",
    "Strategy_1=[0]*m #This is GRIM strategy\n",
    "Strategy_2=[0]*m #This is ALLD strategy\n",
    "Payoff_1=0 #Payoff for GRIM strategy after m trials\n",
    "Payoff_2=0 #Payoff for ALLD strategy after m triasl\n",
    "T=3 #Payoff for Defector if other Corroperates\n",
    "R=2 #Payoff for both corroperating\n",
    "P=1 #Payoff for both Defecting\n",
    "S=0 #Payoff for Corroperator if other defects\n",
    "for j in range(m):\n",
    "    Strategy_2[j]=1\n",
    "    if j==0:\n",
    "        Strategy_1[j]=0\n",
    "    elif max(Strategy_2)>0:\n",
    "        Strategy_1[j]=1\n",
    "    else:\n",
    "        Strategy_1[j]=0\n",
    "    if Strategy_1[j]==0 and Strategy_2[j]==0: #Both Cooroperate\n",
    "        Payoff_1=Payoff_1+R\n",
    "        Payoff_2=Payoff_2+R\n",
    "    elif Strategy_1[j]==0 and Strategy_2[j]==1:#Strategy 1 cooroperates and Strategy 2 does not\n",
    "        Payoff_1=Payoff_1+S\n",
    "        Payoff_2=Payoff_2+T\n",
    "    elif Strategy_1[j]==1 and Strategy_2[j]==0:#Strategy 1 defects and Strategy 2 does not\n",
    "        Payoff_1=Payoff_1+T\n",
    "        Payoff_2=Payoff_2+S\n",
    "    else:#Both Defect\n",
    "        Payoff_1=Payoff_1+P\n",
    "        Payoff_2=Payoff_2+P\n",
    "print('Payoff for Strategy 1 is', Payoff_1)\n",
    "print('S+(m-1)P=', S+(m-1)*P)\n",
    "print('Payoff for Strategy 2 is', Payoff_2)\n",
    "print('T+(m-1)P=', T+(m-1)*P)"
   ]
  },
  {
   "cell_type": "code",
   "execution_count": 28,
   "metadata": {},
   "outputs": [
    {
     "name": "stdout",
     "output_type": "stream",
     "text": [
      "Payoff for Strategy 1 is 98\n",
      "S+(m-1)P= 98\n",
      "Payoff for Strategy 2 is 104\n",
      "T+(m-1)P= 104\n"
     ]
    }
   ],
   "source": [
    "m=100 #Number of Trials\n",
    "Strategy_1=[0]*m #This is GRIM strategy\n",
    "Strategy_2=[0]*m #This is ALLD strategy\n",
    "Payoff_1=0 #Payoff for GRIM strategy after m trials\n",
    "Payoff_2=0 #Payoff for ALLD strategy after m triasl\n",
    "T=5 #Payoff for Defector if other Corroperates\n",
    "R=3 #Payoff for both corroperating\n",
    "P=1 #Payoff for both Defecting\n",
    "S=-1 #Payoff for Corroperator if other defects\n",
    "for j in range(m):\n",
    "    Strategy_2[j]=1\n",
    "    if j==0:\n",
    "        Strategy_1[j]=0\n",
    "    elif max(Strategy_2)>0:\n",
    "        Strategy_1[j]=1\n",
    "    else:\n",
    "        Strategy_1[j]=0\n",
    "    if Strategy_1[j]==0 and Strategy_2[j]==0: #Both Cooroperate\n",
    "        Payoff_1=Payoff_1+R\n",
    "        Payoff_2=Payoff_2+R\n",
    "    elif Strategy_1[j]==0 and Strategy_2[j]==1:#Strategy 1 cooroperates and Strategy 2 does not\n",
    "        Payoff_1=Payoff_1+S\n",
    "        Payoff_2=Payoff_2+T\n",
    "    elif Strategy_1[j]==1 and Strategy_2[j]==0:#Strategy 1 defects and Strategy 2 does not\n",
    "        Payoff_1=Payoff_1+T\n",
    "        Payoff_2=Payoff_2+S\n",
    "    else:#Both Defect\n",
    "        Payoff_1=Payoff_1+P\n",
    "        Payoff_2=Payoff_2+P\n",
    "print('Payoff for Strategy 1 is', Payoff_1)\n",
    "print('S+(m-1)P=', S+(m-1)*P)\n",
    "print('Payoff for Strategy 2 is', Payoff_2)\n",
    "print('T+(m-1)P=', T+(m-1)*P)"
   ]
  },
  {
   "cell_type": "markdown",
   "metadata": {},
   "source": [
    "## Part B\n",
    "\n",
    "Based on your answer show that GRIM is stable against invasion by ALLD if\n",
    "\n",
    "$$m>\\frac{T-P}{R-P} .$$"
   ]
  },
  {
   "cell_type": "markdown",
   "metadata": {},
   "source": [
    "## Part C"
   ]
  },
  {
   "cell_type": "code",
   "execution_count": 32,
   "metadata": {},
   "outputs": [
    {
     "name": "stdout",
     "output_type": "stream",
     "text": [
      "Payoff for Strategy 1 is 198\n",
      "S+(m-1)R= 198\n",
      "Payoff for Strategy 2 is 201\n",
      "T+(m-1)R= 201\n"
     ]
    }
   ],
   "source": [
    "m=100 #Number of Trials\n",
    "Strategy_1=[0]*m #This is GRIM strategy\n",
    "Strategy_2=[0]*m #This is GRIM* strategy\n",
    "Payoff_1=0 #Payoff for GRIM strategy after m trials\n",
    "Payoff_2=0 #Payoff for ALLD strategy after m triasl\n",
    "T=3 #Payoff for Defector if other Corroperates\n",
    "R=2 #Payoff for both corroperating\n",
    "P=1 #Payoff for both Defecting\n",
    "S=0 #Payoff for Corroperator if other defects\n",
    "for j in range(m):\n",
    "    if j==0:\n",
    "        Strategy_1[j]=0\n",
    "        Strategy_2[j]=0\n",
    "    if max(Strategy_2)>0:\n",
    "        Strategy_1[j]=1\n",
    "    else:\n",
    "        Strategy_1[j]=0\n",
    "    if max(Strategy_1)>0:\n",
    "        Strategy_2[j]=1            \n",
    "    elif j==m-1:\n",
    "        Strategy_2[j]=1\n",
    "    else:\n",
    "        Strategy_2[j]=0\n",
    "    if Strategy_1[j]==0 and Strategy_2[j]==0: #Both Cooroperate\n",
    "        Payoff_1=Payoff_1+R\n",
    "        Payoff_2=Payoff_2+R\n",
    "    elif Strategy_1[j]==0 and Strategy_2[j]==1:#Strategy 1 cooroperates and Strategy 2 does not\n",
    "        Payoff_1=Payoff_1+S\n",
    "        Payoff_2=Payoff_2+T\n",
    "    elif Strategy_1[j]==1 and Strategy_2[j]==0:#Strategy 1 defects and Strategy 2 does not\n",
    "        Payoff_1=Payoff_1+T\n",
    "        Payoff_2=Payoff_2+S\n",
    "    else:#Both Defect\n",
    "        Payoff_1=Payoff_1+P\n",
    "        Payoff_2=Payoff_2+P\n",
    "print('Payoff for Strategy 1 is', Payoff_1)\n",
    "print('S+(m-1)R=', S+(m-1)*R)\n",
    "print('Payoff for Strategy 2 is', Payoff_2)\n",
    "print('T+(m-1)R=', T+(m-1)*R)"
   ]
  },
  {
   "cell_type": "code",
   "execution_count": 33,
   "metadata": {},
   "outputs": [
    {
     "name": "stdout",
     "output_type": "stream",
     "text": [
      "Payoff for Strategy 1 is 197\n",
      "S+(m-1)R= 197\n",
      "Payoff for Strategy 2 is 202\n",
      "T+(m-1)R= 202\n"
     ]
    }
   ],
   "source": [
    "m=100 #Number of Trials\n",
    "Strategy_1=[0]*m #This is GRIM strategy\n",
    "Strategy_2=[0]*m #This is GRIM* strategy\n",
    "Payoff_1=0 #Payoff for GRIM strategy after m trials\n",
    "Payoff_2=0 #Payoff for ALLD strategy after m triasl\n",
    "T=4 #Payoff for Defector if other Corroperates\n",
    "R=2 #Payoff for both corroperating\n",
    "P=1 #Payoff for both Defecting\n",
    "S=-1 #Payoff for Corroperator if other defects\n",
    "for j in range(m):\n",
    "    if j==0:\n",
    "        Strategy_1[j]=0\n",
    "        Strategy_2[j]=0\n",
    "    if max(Strategy_2)>0:\n",
    "        Strategy_1[j]=1\n",
    "    else:\n",
    "        Strategy_1[j]=0\n",
    "    if max(Strategy_1)>0:\n",
    "        Strategy_2[j]=1            \n",
    "    elif j==m-1:\n",
    "        Strategy_2[j]=1\n",
    "    else:\n",
    "        Strategy_2[j]=0\n",
    "    if Strategy_1[j]==0 and Strategy_2[j]==0: #Both Cooroperate\n",
    "        Payoff_1=Payoff_1+R\n",
    "        Payoff_2=Payoff_2+R\n",
    "    elif Strategy_1[j]==0 and Strategy_2[j]==1:#Strategy 1 cooroperates and Strategy 2 does not\n",
    "        Payoff_1=Payoff_1+S\n",
    "        Payoff_2=Payoff_2+T\n",
    "    elif Strategy_1[j]==1 and Strategy_2[j]==0:#Strategy 1 defects and Strategy 2 does not\n",
    "        Payoff_1=Payoff_1+T\n",
    "        Payoff_2=Payoff_2+S\n",
    "    else:#Both Defect\n",
    "        Payoff_1=Payoff_1+P\n",
    "        Payoff_2=Payoff_2+P\n",
    "print('Payoff for Strategy 1 is', Payoff_1)\n",
    "print('S+(m-1)R=', S+(m-1)*R)\n",
    "print('Payoff for Strategy 2 is', Payoff_2)\n",
    "print('T+(m-1)R=', T+(m-1)*R)"
   ]
  },
  {
   "cell_type": "markdown",
   "metadata": {},
   "source": [
    "We see that assuming that $T>S$ that strategy 2, i.e GRIM$^*$, has a better payoff when playing against Strategy 1, i.e GRIM. This is independent of the value for $m$. We see that the payoff for GRIM is $S+(m-1)R$, and the payoff for GRIM$^*$ is $T+(m-1)R$.  "
   ]
  },
  {
   "cell_type": "markdown",
   "metadata": {},
   "source": [
    "## Part D\n",
    "Lets consider the strategy GRIM$^{**}$. This is the same strategy as GRIM, but will defect in the last two rounds. When run against GRIM$^*$ we see"
   ]
  },
  {
   "cell_type": "code",
   "execution_count": 50,
   "metadata": {},
   "outputs": [
    {
     "name": "stdout",
     "output_type": "stream",
     "text": [
      "Payoff for Strategy 1 is 201\n",
      "T+(m-2)R+P= 201\n",
      "Payoff for Strategy 2 is 196\n",
      "S+(m-2)R+P= 196\n"
     ]
    }
   ],
   "source": [
    "m=100 #Number of Trials\n",
    "Strategy_1=[0]*m #This is GRIM** strategy\n",
    "Strategy_2=[0]*m #This is GRIM* strategy\n",
    "Payoff_1=0 #Payoff for GRIM strategy after m trials\n",
    "Payoff_2=0 #Payoff for ALLD strategy after m triasl\n",
    "T=4 #Payoff for Defector if other Corroperates\n",
    "R=2 #Payoff for both corroperating\n",
    "P=1 #Payoff for both Defecting\n",
    "S=-1 #Payoff for Corroperator if other defects\n",
    "for j in range(m):\n",
    "    if j==0:\n",
    "        Strategy_1[j]=0\n",
    "        Strategy_2[j]=0\n",
    "        Payoff_1=Payoff_1+R\n",
    "        Payoff_2=Payoff_2+R\n",
    "    else:\n",
    "        if max(Strategy_2)>0:\n",
    "            Strategy_1[j]=1\n",
    "        elif j>=m-2:\n",
    "            Strategy_1[j]=1\n",
    "        else:\n",
    "            Strategy_1[j]=0\n",
    "        if Strategy_1[j-1]>0 or max(Strategy_2)>0:\n",
    "            Strategy_2[j]=1            \n",
    "        elif j==m-1:\n",
    "            Strategy_2[j]=1\n",
    "        else:\n",
    "            Strategy_2[j]=0\n",
    "        if Strategy_1[j]==0 and Strategy_2[j]==0: #Both Cooroperate\n",
    "            Payoff_1=Payoff_1+R\n",
    "            Payoff_2=Payoff_2+R\n",
    "        elif Strategy_1[j]==0 and Strategy_2[j]==1:#Strategy 1 cooroperates and Strategy 2 does not\n",
    "            Payoff_1=Payoff_1+S\n",
    "            Payoff_2=Payoff_2+T\n",
    "        elif Strategy_1[j]==1 and Strategy_2[j]==0:#Strategy 1 defects and Strategy 2 does not\n",
    "            Payoff_1=Payoff_1+T\n",
    "            Payoff_2=Payoff_2+S\n",
    "        else:#Both Defect\n",
    "            Payoff_1=Payoff_1+P\n",
    "            Payoff_2=Payoff_2+P\n",
    "print('Payoff for Strategy 1 is', Payoff_1)\n",
    "print('T+(m-2)R+P=', T+(m-2)*R+P)\n",
    "print('Payoff for Strategy 2 is', Payoff_2)\n",
    "print('S+(m-2)R+P=', S+(m-2)*R+P)"
   ]
  },
  {
   "cell_type": "code",
   "execution_count": 51,
   "metadata": {},
   "outputs": [
    {
     "name": "stdout",
     "output_type": "stream",
     "text": [
      "Payoff for Strategy 1 is 200\n",
      "T+(m-2)R+P= 200\n",
      "Payoff for Strategy 2 is 197\n",
      "S+(m-2)R+P= 197\n"
     ]
    }
   ],
   "source": [
    "m=100 #Number of Trials\n",
    "Strategy_1=[0]*m #This is GRIM** strategy\n",
    "Strategy_2=[0]*m #This is GRIM* strategy\n",
    "Payoff_1=0 #Payoff for GRIM strategy after m trials\n",
    "Payoff_2=0 #Payoff for ALLD strategy after m triasl\n",
    "T=3 #Payoff for Defector if other Corroperates\n",
    "R=2 #Payoff for both corroperating\n",
    "P=1 #Payoff for both Defecting\n",
    "S=0 #Payoff for Corroperator if other defects\n",
    "for j in range(m):\n",
    "    if j==0:\n",
    "        Strategy_1[j]=0\n",
    "        Strategy_2[j]=0\n",
    "        Payoff_1=Payoff_1+R\n",
    "        Payoff_2=Payoff_2+R\n",
    "    else:\n",
    "        if max(Strategy_2)>0:\n",
    "            Strategy_1[j]=1\n",
    "        elif j>=m-2:\n",
    "            Strategy_1[j]=1\n",
    "        else:\n",
    "            Strategy_1[j]=0\n",
    "        if Strategy_1[j-1]>0 or max(Strategy_2)>0:\n",
    "            Strategy_2[j]=1            \n",
    "        elif j==m-1:\n",
    "            Strategy_2[j]=1\n",
    "        else:\n",
    "            Strategy_2[j]=0\n",
    "        if Strategy_1[j]==0 and Strategy_2[j]==0: #Both Cooroperate\n",
    "            Payoff_1=Payoff_1+R\n",
    "            Payoff_2=Payoff_2+R\n",
    "        elif Strategy_1[j]==0 and Strategy_2[j]==1:#Strategy 1 cooroperates and Strategy 2 does not\n",
    "            Payoff_1=Payoff_1+S\n",
    "            Payoff_2=Payoff_2+T\n",
    "        elif Strategy_1[j]==1 and Strategy_2[j]==0:#Strategy 1 defects and Strategy 2 does not\n",
    "            Payoff_1=Payoff_1+T\n",
    "            Payoff_2=Payoff_2+S\n",
    "        else:#Both Defect\n",
    "            Payoff_1=Payoff_1+P\n",
    "            Payoff_2=Payoff_2+P\n",
    "print('Payoff for Strategy 1 is', Payoff_1)\n",
    "print('T+(m-2)R+P=', T+(m-2)*R+P)\n",
    "print('Payoff for Strategy 2 is', Payoff_2)\n",
    "print('S+(m-2)R+P=', S+(m-2)*R+P)"
   ]
  },
  {
   "cell_type": "code",
   "execution_count": 52,
   "metadata": {},
   "outputs": [
    {
     "name": "stdout",
     "output_type": "stream",
     "text": [
      "Payoff for Strategy 1 is 211\n",
      "T+(m-2)R+P= 211\n",
      "Payoff for Strategy 2 is 187\n",
      "S+(m-2)R+P= 187\n"
     ]
    }
   ],
   "source": [
    "m=100 #Number of Trials\n",
    "Strategy_1=[0]*m #This is GRIM** strategy\n",
    "Strategy_2=[0]*m #This is GRIM* strategy\n",
    "Payoff_1=0 #Payoff for GRIM strategy after m trials\n",
    "Payoff_2=0 #Payoff for ALLD strategy after m triasl\n",
    "T=14 #Payoff for Defector if other Corroperates\n",
    "R=2 #Payoff for both corroperating\n",
    "P=1 #Payoff for both Defecting\n",
    "S=-10 #Payoff for Corroperator if other defects\n",
    "for j in range(m):\n",
    "    if j==0:\n",
    "        Strategy_1[j]=0\n",
    "        Strategy_2[j]=0\n",
    "        Payoff_1=Payoff_1+R\n",
    "        Payoff_2=Payoff_2+R\n",
    "    else:\n",
    "        if max(Strategy_2)>0:\n",
    "            Strategy_1[j]=1\n",
    "        elif j>=m-2:\n",
    "            Strategy_1[j]=1\n",
    "        else:\n",
    "            Strategy_1[j]=0\n",
    "        if Strategy_1[j-1]>0 or max(Strategy_2)>0:\n",
    "            Strategy_2[j]=1            \n",
    "        elif j==m-1:\n",
    "            Strategy_2[j]=1\n",
    "        else:\n",
    "            Strategy_2[j]=0\n",
    "        if Strategy_1[j]==0 and Strategy_2[j]==0: #Both Cooroperate\n",
    "            Payoff_1=Payoff_1+R\n",
    "            Payoff_2=Payoff_2+R\n",
    "        elif Strategy_1[j]==0 and Strategy_2[j]==1:#Strategy 1 cooroperates and Strategy 2 does not\n",
    "            Payoff_1=Payoff_1+S\n",
    "            Payoff_2=Payoff_2+T\n",
    "        elif Strategy_1[j]==1 and Strategy_2[j]==0:#Strategy 1 defects and Strategy 2 does not\n",
    "            Payoff_1=Payoff_1+T\n",
    "            Payoff_2=Payoff_2+S\n",
    "        else:#Both Defect\n",
    "            Payoff_1=Payoff_1+P\n",
    "            Payoff_2=Payoff_2+P\n",
    "print('Payoff for Strategy 1 is', Payoff_1)\n",
    "print('T+(m-2)R+P=', T+(m-2)*R+P)\n",
    "print('Payoff for Strategy 2 is', Payoff_2)\n",
    "print('S+(m-2)R+P=', S+(m-2)*R+P)"
   ]
  },
  {
   "cell_type": "markdown",
   "metadata": {},
   "source": [
    "We see that Strategy 1, i.e GRIM$^{**}$ will always get a larger payoff when paired up against GRIM$^*$. However, it is notworthy to see that the winning strategy for GRIM$^*$ vs GRIM gives a larger payoff than the winner of GRIM$^*$ vs GRIM$^{**}$. "
   ]
  },
  {
   "cell_type": "markdown",
   "metadata": {},
   "source": [
    "## Part E\n",
    "We see that this strategy can be applied $m$ times until the default stategy is ALLD. However, despite having a higher payoff when doing a head to head, the value of that payoff is smaller from the winning strategy in any previous interation of GRIM$^*$. So, despite ALLD winning in the head to head, its total payoff is the smallest, and all alternative variations of GRIM$^*$, despite winning, give a lower payoff than GRIM$^*$ vs GRIM.  "
   ]
  },
  {
   "cell_type": "markdown",
   "metadata": {},
   "source": [
    "# Question 3\n",
    "In some cases a more realistic scenario than a repeated game that occurs exactly $m$ times,\n",
    "with $m$ known to both players, is a scenario in which there is a probability, $\\delta$, of the game\n",
    "continuing after each round.\n",
    "## Part a\n",
    "What is the expected number of rounds for arbitrary $\\delta$?"
   ]
  },
  {
   "cell_type": "code",
   "execution_count": 60,
   "metadata": {},
   "outputs": [
    {
     "name": "stdout",
     "output_type": "stream",
     "text": [
      "Average Number of Rounds= 5.003159\n",
      "1+delta/(1-delta)= 5.000000000000001\n"
     ]
    }
   ],
   "source": [
    "delta=.8\n",
    "avg_rounds=0\n",
    "trials=1000000\n",
    "for j in range(trials):\n",
    "    stop=1\n",
    "    count=0\n",
    "    while stop==1:\n",
    "        count=count+1\n",
    "        if random.random()>delta:\n",
    "            stop=0\n",
    "    avg_rounds=avg_rounds+count\n",
    "avg_rounds=avg_rounds/trials\n",
    "print('Average Number of Rounds=', avg_rounds)\n",
    "print('1+delta/(1-delta)=', 1+delta/(1-delta) )"
   ]
  },
  {
   "cell_type": "code",
   "execution_count": 61,
   "metadata": {},
   "outputs": [
    {
     "name": "stdout",
     "output_type": "stream",
     "text": [
      "Average Number of Rounds= 10.012192\n",
      "1+delta/(1-delta)= 10.000000000000002\n"
     ]
    }
   ],
   "source": [
    "delta=.9\n",
    "avg_rounds=0\n",
    "trials=1000000\n",
    "for j in range(trials):\n",
    "    stop=1\n",
    "    count=0\n",
    "    while stop==1:\n",
    "        count=count+1\n",
    "        if random.random()>delta:\n",
    "            stop=0\n",
    "    avg_rounds=avg_rounds+count\n",
    "avg_rounds=avg_rounds/trials\n",
    "print('Average Number of Rounds=', avg_rounds)\n",
    "print('1+delta/(1-delta)=', 1+delta/(1-delta) )"
   ]
  },
  {
   "cell_type": "code",
   "execution_count": 62,
   "metadata": {},
   "outputs": [
    {
     "name": "stdout",
     "output_type": "stream",
     "text": [
      "Average Number of Rounds= 3.330619\n",
      "1+delta/(1-delta)= 3.333333333333333\n"
     ]
    }
   ],
   "source": [
    "delta=.7\n",
    "avg_rounds=0\n",
    "trials=1000000\n",
    "for j in range(trials):\n",
    "    stop=1\n",
    "    count=0\n",
    "    while stop==1:\n",
    "        count=count+1\n",
    "        if random.random()>delta:\n",
    "            stop=0\n",
    "    avg_rounds=avg_rounds+count\n",
    "avg_rounds=avg_rounds/trials\n",
    "print('Average Number of Rounds=', avg_rounds)\n",
    "print('1+delta/(1-delta)=', 1+delta/(1-delta) )"
   ]
  },
  {
   "cell_type": "code",
   "execution_count": 63,
   "metadata": {},
   "outputs": [
    {
     "name": "stdout",
     "output_type": "stream",
     "text": [
      "Average Number of Rounds= 2.500052\n",
      "1+delta/(1-delta)= 2.5\n"
     ]
    }
   ],
   "source": [
    "delta=.6\n",
    "avg_rounds=0\n",
    "trials=1000000\n",
    "for j in range(trials):\n",
    "    stop=1\n",
    "    count=0\n",
    "    while stop==1:\n",
    "        count=count+1\n",
    "        if random.random()>delta:\n",
    "            stop=0\n",
    "    avg_rounds=avg_rounds+count\n",
    "avg_rounds=avg_rounds/trials\n",
    "print('Average Number of Rounds=', avg_rounds)\n",
    "print('1+delta/(1-delta)=', 1+delta/(1-delta) )"
   ]
  },
  {
   "cell_type": "markdown",
   "metadata": {},
   "source": [
    "We see when simulating that the formula above holds when running a large number of trials. Thus, we see that the expected number of rounds is \n",
    "\n",
    "$$E[\\delta]=1+\\frac{\\delta}{1-\\delta}$$"
   ]
  }
 ],
 "metadata": {
  "kernelspec": {
   "display_name": "Python 3",
   "language": "python",
   "name": "python3"
  },
  "language_info": {
   "codemirror_mode": {
    "name": "ipython",
    "version": 3
   },
   "file_extension": ".py",
   "mimetype": "text/x-python",
   "name": "python",
   "nbconvert_exporter": "python",
   "pygments_lexer": "ipython3",
   "version": "3.8.3"
  }
 },
 "nbformat": 4,
 "nbformat_minor": 4
}
